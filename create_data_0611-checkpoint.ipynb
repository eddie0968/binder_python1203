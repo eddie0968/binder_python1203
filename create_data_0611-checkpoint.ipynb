{
 "cells": [
  {
   "cell_type": "code",
   "execution_count": 1,
   "metadata": {},
   "outputs": [],
   "source": [
    "import pandas as pd\n",
    "import numpy as np  "
   ]
  },
  {
   "cell_type": "code",
   "execution_count": 2,
   "metadata": {},
   "outputs": [],
   "source": [
    "data = pd.read_csv('UCI_Credit_Card.csv')"
   ]
  },
  {
   "cell_type": "code",
   "execution_count": 3,
   "metadata": {},
   "outputs": [
    {
     "data": {
      "text/plain": [
       "(30000, 25)"
      ]
     },
     "execution_count": 3,
     "metadata": {},
     "output_type": "execute_result"
    }
   ],
   "source": [
    "data.shape"
   ]
  },
  {
   "cell_type": "code",
   "execution_count": 4,
   "metadata": {},
   "outputs": [],
   "source": [
    "data['PAY_0'] = data['PAY_0'].apply(lambda x : x if x >0 else 0)\n",
    "data['PAY_2'] = data['PAY_2'].apply(lambda x : x if x >0 else 0)\n",
    "data['PAY_3'] = data['PAY_3'].apply(lambda x : x if x >0 else 0)\n",
    "data['PAY_4'] = data['PAY_4'].apply(lambda x : x if x >0 else 0)\n",
    "data['PAY_5'] = data['PAY_5'].apply(lambda x : x if x >0 else 0)\n",
    "data['PAY_6'] = data['PAY_6'].apply(lambda x : x if x >0 else 0)"
   ]
  },
  {
   "cell_type": "code",
   "execution_count": 5,
   "metadata": {},
   "outputs": [
    {
     "data": {
      "text/plain": [
       "array([ 5640, 23320, 14147, 24423, 12119,    79, 16304, 16734, 14260,\n",
       "       10082, 20533, 13890,  7906,  5646, 17186, 13297, 10992, 20760,\n",
       "       26255, 11492, 26475, 17724,  7738, 11152,  9723,  5769])"
      ]
     },
     "execution_count": 5,
     "metadata": {},
     "output_type": "execute_result"
    }
   ],
   "source": [
    "np.random.seed(100)\n",
    "index_1 = np.random.randint(len(data), size = len(data)//1123)\n",
    "index_1"
   ]
  },
  {
   "cell_type": "code",
   "execution_count": 6,
   "metadata": {},
   "outputs": [],
   "source": [
    "data.loc[index_1,'PAY_AMT1'] = np.nan"
   ]
  },
  {
   "cell_type": "code",
   "execution_count": 7,
   "metadata": {},
   "outputs": [
    {
     "data": {
      "text/plain": [
       "array([17673,  7293, 29199])"
      ]
     },
     "execution_count": 7,
     "metadata": {},
     "output_type": "execute_result"
    }
   ],
   "source": [
    "np.random.seed(10)\n",
    "index_2 = np.random.randint(len(data), size = len(data)//10000)\n",
    "index_2"
   ]
  },
  {
   "cell_type": "code",
   "execution_count": 8,
   "metadata": {},
   "outputs": [],
   "source": [
    "col = ['PAY_0', 'PAY_2', 'BILL_AMT1', 'BILL_AMT4', 'BILL_AMT6', 'PAY_AMT1', 'PAY_AMT3', 'PAY_AMT4', 'PAY_AMT5', 'PAY_AMT6']\n",
    "data.loc[index_2,col] = np.nan"
   ]
  },
  {
   "cell_type": "code",
   "execution_count": 9,
   "metadata": {},
   "outputs": [
    {
     "data": {
      "text/plain": [
       "ID                             0\n",
       "LIMIT_BAL                      0\n",
       "SEX                            0\n",
       "EDUCATION                      0\n",
       "MARRIAGE                       0\n",
       "AGE                            0\n",
       "PAY_0                          3\n",
       "PAY_2                          3\n",
       "PAY_3                          0\n",
       "PAY_4                          0\n",
       "PAY_5                          0\n",
       "PAY_6                          0\n",
       "BILL_AMT1                      3\n",
       "BILL_AMT2                      0\n",
       "BILL_AMT3                      0\n",
       "BILL_AMT4                      3\n",
       "BILL_AMT5                      0\n",
       "BILL_AMT6                      3\n",
       "PAY_AMT1                      29\n",
       "PAY_AMT2                       0\n",
       "PAY_AMT3                       3\n",
       "PAY_AMT4                       3\n",
       "PAY_AMT5                       3\n",
       "PAY_AMT6                       3\n",
       "default.payment.next.month     0\n",
       "dtype: int64"
      ]
     },
     "execution_count": 9,
     "metadata": {},
     "output_type": "execute_result"
    }
   ],
   "source": [
    "data.isnull().sum()"
   ]
  },
  {
   "cell_type": "code",
   "execution_count": 11,
   "metadata": {},
   "outputs": [],
   "source": [
    "data = data.rename(columns = {'default.payment.next.month' : 'DEFAULT'})"
   ]
  },
  {
   "cell_type": "code",
   "execution_count": 12,
   "metadata": {},
   "outputs": [],
   "source": [
    "data.to_csv('UCI_Credit_Card_Modified.csv', index = False)"
   ]
  },
  {
   "cell_type": "code",
   "execution_count": null,
   "metadata": {},
   "outputs": [],
   "source": []
  }
 ],
 "metadata": {
  "kernelspec": {
   "display_name": "Python 3",
   "language": "python",
   "name": "python3"
  },
  "language_info": {
   "codemirror_mode": {
    "name": "ipython",
    "version": 3
   },
   "file_extension": ".py",
   "mimetype": "text/x-python",
   "name": "python",
   "nbconvert_exporter": "python",
   "pygments_lexer": "ipython3",
   "version": "3.7.3"
  }
 },
 "nbformat": 4,
 "nbformat_minor": 2
}
